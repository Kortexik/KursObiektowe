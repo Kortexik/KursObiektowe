{
 "cells": [
  {
   "cell_type": "code",
   "execution_count": 1,
   "metadata": {},
   "outputs": [],
   "source": [
    "class Complex:\n",
    "    def __init__(self,a,b):\n",
    "        self.a = a\n",
    "        self.b = b\n",
    "    def __add__(self,new):\n",
    "        sum_a = self.a + new.a\n",
    "        sum_b = self.b + new.b\n",
    "        return complex(sum_a,sum_b)\n",
    "    \n",
    "    \n",
    " \n",
    " \n",
    " \n",
    "    def show(self):\n",
    "        return f\"{self.a} + {self.b}i\"\n",
    "    def im(self):\n",
    "        return self.b\n",
    "    def re(self):\n",
    "        return self.a\n",
    "    def modulo(self):\n",
    "        return (self.a**2+self.b**2)**(1/2)\n",
    "    "
   ]
  },
  {
   "cell_type": "code",
   "execution_count": 2,
   "metadata": {},
   "outputs": [
    {
     "data": {
      "text/plain": [
       "'1 + 2i'"
      ]
     },
     "execution_count": 2,
     "metadata": {},
     "output_type": "execute_result"
    }
   ],
   "source": [
    "zesp = Complex(1, 2)\n",
    "\n",
    "zesp.show()"
   ]
  },
  {
   "cell_type": "code",
   "execution_count": null,
   "metadata": {},
   "outputs": [],
   "source": []
  },
  {
   "cell_type": "code",
   "execution_count": null,
   "metadata": {},
   "outputs": [],
   "source": []
  }
 ],
 "metadata": {
  "kernelspec": {
   "display_name": "venv",
   "language": "python",
   "name": "python3"
  },
  "language_info": {
   "codemirror_mode": {
    "name": "ipython",
    "version": 3
   },
   "file_extension": ".py",
   "mimetype": "text/x-python",
   "name": "python",
   "nbconvert_exporter": "python",
   "pygments_lexer": "ipython3",
   "version": "3.12.1"
  }
 },
 "nbformat": 4,
 "nbformat_minor": 2
}
